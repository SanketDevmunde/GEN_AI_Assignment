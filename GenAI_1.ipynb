{
  "nbformat": 4,
  "nbformat_minor": 0,
  "metadata": {
    "colab": {
      "provenance": [],
      "include_colab_link": true
    },
    "kernelspec": {
      "name": "python3",
      "display_name": "Python 3"
    },
    "language_info": {
      "name": "python"
    }
  },
  "cells": [
    {
      "cell_type": "markdown",
      "metadata": {
        "id": "view-in-github",
        "colab_type": "text"
      },
      "source": [
        "<a href=\"https://colab.research.google.com/github/SanketDevmunde/GEN_AI_Assignment/blob/main/GenAI_1.ipynb\" target=\"_parent\"><img src=\"https://colab.research.google.com/assets/colab-badge.svg\" alt=\"Open In Colab\"/></a>"
      ]
    },
    {
      "cell_type": "code",
      "execution_count": 1,
      "metadata": {
        "id": "Jc8a4L71awZw"
      },
      "outputs": [],
      "source": [
        "import random\n",
        "from collections import defaultdict"
      ]
    },
    {
      "cell_type": "code",
      "source": [
        "class MarkovChain:\n",
        "    def __init__(self):\n",
        "        self.chain = defaultdict(list)\n",
        "\n",
        "    def train(self, text, n=1):\n",
        "        \"\"\"Train the Markov Chain using n-word sequences as keys.\"\"\"\n",
        "        words = text.split()\n",
        "        for i in range(len(words) - n):\n",
        "            key = tuple(words[i:i+n])  # n-word sequence as key\n",
        "            next_word = words[i+n]  # next word to predict\n",
        "            self.chain[key].append(next_word)\n",
        "\n",
        "    def generate_text(self, length=50, n=1):\n",
        "        \"\"\"Generate text based on the learned Markov Chain.\"\"\"\n",
        "        # Start with a random key\n",
        "        start_key = random.choice(list(self.chain.keys()))\n",
        "        generated_words = list(start_key)\n",
        "\n",
        "        for _ in range(length - n):\n",
        "            current_key = tuple(generated_words[-n:])\n",
        "            next_words = self.chain.get(current_key)\n",
        "            if not next_words:\n",
        "                break  # No further word, stop generation\n",
        "            next_word = random.choice(next_words)\n",
        "            generated_words.append(next_word)\n",
        "\n",
        "        return ' '.join(generated_words)"
      ],
      "metadata": {
        "id": "72rWQMZ_bKsj"
      },
      "execution_count": 2,
      "outputs": []
    },
    {
      "cell_type": "code",
      "source": [
        "# Example usage:\n",
        "text = \"\"\"\n",
        "Pushpa 2: The Rule is a 2024 Indian Telugu-language action drama film[8] written and directed by Sukumar and produced by Mythri Movie Makers in association with Sukumar Writings. A sequel to Pushpa: The Rise (2021), it is the second installment in the Pushpa film series. The film stars Allu Arjun in the titular role, alongside Rashmika Mandanna, Fahadh Faasil, Jagapathi Babu, Sunil, and Rao Ramesh. It follows Pushpa Raj, a labourer-turned-red sandalwood smuggler, as he faces growing threats from his enemies, including SP Bhanwar Singh Shekhawat.\n",
        "\n",
        "The sequel was officially announced in December 2021, shortly before the release of the first film, with the title Pushpa 2 and later rebranded as Pushpa 2: The Rule in August 2022.[9][10] Although a portion of the film was initially shot back-to-back with the first film, director Sukumar revised the storyline, leading to principal photography beginning in October 2022. The film features music composed by Devi Sri Prasad, cinematography by Mirosław Kuba Brożek, and editing by Naveen Nooli. Made on a budget of ₹400–500 crore,[3][11] it is among the most expensive Indian films ever produced. With a runtime of 200–224 minutes,[12][2] it is also one of the longest Indian films.[13]\n",
        "\"\"\""
      ],
      "metadata": {
        "id": "UH9E_FsfbKxf"
      },
      "execution_count": 3,
      "outputs": []
    },
    {
      "cell_type": "code",
      "source": [
        "# Create the Markov Chain\n",
        "markov = MarkovChain()"
      ],
      "metadata": {
        "id": "aNnaKBkObKz1"
      },
      "execution_count": 4,
      "outputs": []
    },
    {
      "cell_type": "code",
      "source": [
        "# Train the model with the input text\n",
        "markov.train(text, n=1)"
      ],
      "metadata": {
        "id": "L6ysimoSbRul"
      },
      "execution_count": 5,
      "outputs": []
    },
    {
      "cell_type": "code",
      "source": [
        "# Generate text\n",
        "generated_text = markov.generate_text(length=50, n=1)\n",
        "print(generated_text)"
      ],
      "metadata": {
        "colab": {
          "base_uri": "https://localhost:8080/"
        },
        "id": "e0fh6zwKbK2b",
        "outputId": "12d242e9-60eb-4b2c-e03f-a6ac5f76d777"
      },
      "execution_count": 6,
      "outputs": [
        {
          "output_type": "stream",
          "name": "stdout",
          "text": [
            "minutes,[12][2] it is a 2024 Indian Telugu-language action drama film[8] written and directed by Devi Sri Prasad, cinematography by Sukumar Writings. A sequel was initially shot back-to-back with the titular role, alongside Rashmika Mandanna, Fahadh Faasil, Jagapathi Babu, Sunil, and Rao Ramesh. It follows Pushpa 2: The film features music\n"
          ]
        }
      ]
    },
    {
      "cell_type": "code",
      "source": [],
      "metadata": {
        "id": "UOC5qGZ-bK5m"
      },
      "execution_count": null,
      "outputs": []
    }
  ]
}