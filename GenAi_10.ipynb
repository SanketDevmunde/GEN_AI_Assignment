{
  "nbformat": 4,
  "nbformat_minor": 0,
  "metadata": {
    "colab": {
      "provenance": [],
      "gpuType": "T4",
      "include_colab_link": true
    },
    "kernelspec": {
      "name": "python3",
      "display_name": "Python 3"
    },
    "language_info": {
      "name": "python"
    },
    "accelerator": "GPU"
  },
  "cells": [
    {
      "cell_type": "markdown",
      "metadata": {
        "id": "view-in-github",
        "colab_type": "text"
      },
      "source": [
        "<a href=\"https://colab.research.google.com/github/SanketDevmunde/GEN_AI_Assignment/blob/main/GenAi_10.ipynb\" target=\"_parent\"><img src=\"https://colab.research.google.com/assets/colab-badge.svg\" alt=\"Open In Colab\"/></a>"
      ]
    },
    {
      "cell_type": "markdown",
      "source": [
        "### ✅ Short Summary of the New Assignment:\n",
        "\n",
        "This assignment sends a **text prompt** to the **Hugging Face Inference API** using the `FLUX.1-dev` model (a Stable Diffusion XL variant) and:\n",
        "- Retrieves the generated image.\n",
        "- Saves and displays the image.\n",
        "- **Uses Colab secrets** for secure API token handling instead of hardcoding it.\n"
      ],
      "metadata": {
        "id": "g5jyxz_CNPG9"
      }
    },
    {
      "cell_type": "code",
      "source": [
        "import requests\n",
        "import json\n",
        "from PIL import Image\n",
        "from io import BytesIO\n",
        "from google.colab import userdata  # For accessing secrets\n",
        "import os\n",
        "\n",
        "# Load Hugging Face token securely from Colab secrets\n",
        "HF_TOKEN = userdata.get(\"HF_TOKEN\")\n",
        "\n",
        "if HF_TOKEN is None:\n",
        "    raise ValueError(\"HF_TOKEN not found in Colab secrets. Please add it first.\")\n",
        "\n",
        "# Define the API URL (FLUX.1-dev - Stable Diffusion XL model)\n",
        "API_URL = \"https://api-inference.huggingface.co/models/black-forest-labs/FLUX.1-dev\"\n",
        "\n",
        "# Set authorization header\n",
        "headers = {\"Authorization\": f\"Bearer {HF_TOKEN}\"}\n",
        "\n",
        "# Define text-to-image prompt\n",
        "payload = {\"inputs\": \"A futuristic city skyline at sunset with flying cars and neon lights reflecting on glass buildings\"}\n",
        "\n",
        "# Send request to Hugging Face Inference API\n",
        "response = requests.post(API_URL, headers=headers, json=payload)\n",
        "\n",
        "# Handle response and convert to image\n",
        "if response.status_code == 200:\n",
        "    image = Image.open(BytesIO(response.content))\n",
        "    image.save(\"hf_generated_image.png\")  # Save image locally\n",
        "    image.show()  # Display image in Colab\n",
        "    print(\"✅ Image generated and saved as 'hf_generated_image.png'\")\n",
        "else:\n",
        "    print(f\"❌ Error: {response.status_code}\\n{response.text}\")\n"
      ],
      "metadata": {
        "id": "5wz90vUcsAGJ",
        "colab": {
          "base_uri": "https://localhost:8080/"
        },
        "outputId": "977023d2-3d96-47ac-d2d4-f0df70af8008"
      },
      "execution_count": 4,
      "outputs": [
        {
          "output_type": "stream",
          "name": "stdout",
          "text": [
            "✅ Image generated and saved as 'hf_generated_image.png'\n"
          ]
        }
      ]
    },
    {
      "cell_type": "markdown",
      "source": [],
      "metadata": {
        "id": "HWeahlrYNOqA"
      }
    }
  ]
}