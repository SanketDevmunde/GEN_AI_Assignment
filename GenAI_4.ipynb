{
  "cells": [
    {
      "cell_type": "markdown",
      "metadata": {
        "id": "view-in-github",
        "colab_type": "text"
      },
      "source": [
        "<a href=\"https://colab.research.google.com/github/SanketDevmunde/GEN_AI_Assignment/blob/main/GenAI_4.ipynb\" target=\"_parent\"><img src=\"https://colab.research.google.com/assets/colab-badge.svg\" alt=\"Open In Colab\"/></a>"
      ]
    },
    {
      "cell_type": "code",
      "execution_count": 1,
      "metadata": {
        "id": "aRAod31ba41O"
      },
      "outputs": [],
      "source": [
        "import torch\n",
        "from transformers import pipeline"
      ]
    },
    {
      "cell_type": "code",
      "execution_count": 2,
      "metadata": {
        "colab": {
          "base_uri": "https://localhost:8080/"
        },
        "id": "4OFj2E88bjJc",
        "outputId": "13dc3bf7-fbd2-4907-ed51-d0d26dba0526"
      },
      "outputs": [
        {
          "output_type": "stream",
          "name": "stderr",
          "text": [
            "Device set to use cpu\n"
          ]
        }
      ],
      "source": [
        "# Load a pre-trained question-answering model\n",
        "qa_pipeline = pipeline(\"question-answering\", model=\"distilbert-base-cased-distilled-squad\")"
      ]
    },
    {
      "cell_type": "code",
      "execution_count": 3,
      "metadata": {
        "id": "6r5a1PZ5bjLu"
      },
      "outputs": [],
      "source": [
        "def chatbot():\n",
        "    print(\"Simple QA Chatbot (Type 'exit' to stop)\")\n",
        "    context = input(\"Provide some context:\\n\")  # User provides background info\n",
        "\n",
        "    while True:\n",
        "        question = input(\"\\nAsk a question: \")\n",
        "        if question.lower() == \"exit\":\n",
        "            print(\"Goodbye!\")\n",
        "            break\n",
        "\n",
        "        # Get the answer from the model\n",
        "        answer = qa_pipeline(question=question, context=context)\n",
        "        print(f\"Answer: {answer['answer']}\")"
      ]
    },
    {
      "cell_type": "code",
      "execution_count": 4,
      "metadata": {
        "colab": {
          "base_uri": "https://localhost:8080/"
        },
        "id": "-rvbtxrmbjOZ",
        "outputId": "403113ec-f8d9-4c27-9a24-bb951f8aad89"
      },
      "outputs": [
        {
          "output_type": "stream",
          "name": "stdout",
          "text": [
            "Simple QA Chatbot (Type 'exit' to stop)\n",
            "Provide some context:\n",
            "The Eiffel Tower is a wrought-iron lattice tower in Paris, France. It was completed in 1889.\n",
            "\n",
            "Ask a question: When was the Eiffel Tower completed?\n",
            "Answer: 1889\n",
            "\n",
            "Ask a question: Where is the Eiffel Tower?\n",
            "Answer: Paris, France\n",
            "\n",
            "Ask a question: exit\n",
            "Goodbye!\n"
          ]
        }
      ],
      "source": [
        "# Run the chatbot\n",
        "chatbot()"
      ]
    },
    {
      "cell_type": "code",
      "execution_count": 4,
      "metadata": {
        "id": "fLaitA1CbjSA"
      },
      "outputs": [],
      "source": []
    }
  ],
  "metadata": {
    "colab": {
      "provenance": [],
      "include_colab_link": true
    },
    "kernelspec": {
      "display_name": "Python 3",
      "name": "python3"
    },
    "language_info": {
      "name": "python"
    }
  },
  "nbformat": 4,
  "nbformat_minor": 0
}