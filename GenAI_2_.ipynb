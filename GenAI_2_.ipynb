{
  "cells": [
    {
      "cell_type": "markdown",
      "metadata": {
        "id": "view-in-github",
        "colab_type": "text"
      },
      "source": [
        "<a href=\"https://colab.research.google.com/github/SanketDevmunde/GEN_AI_Assignment/blob/main/GenAI_2_.ipynb\" target=\"_parent\"><img src=\"https://colab.research.google.com/assets/colab-badge.svg\" alt=\"Open In Colab\"/></a>"
      ]
    },
    {
      "cell_type": "code",
      "execution_count": null,
      "metadata": {
        "id": "7nRh5cocUvX0"
      },
      "outputs": [],
      "source": [
        "import os\n",
        "import openai\n",
        "from dotenv import load_dotenv\n",
        "\n",
        "# Load API key from .env file\n",
        "load_dotenv()\n",
        "openai.api_key = os.environ[\"GROQ_API_KEY\"]\n",
        "openai.base_url = \"https://api.groq.com/openai/v1\"\n",
        "\n",
        "def call_groq(prompt, model=\"llama3-8b-8192\", temperature=0.7):\n",
        "    response = openai.ChatCompletion.create(\n",
        "        model=model,\n",
        "        messages=[{\"role\": \"user\", \"content\": prompt}],\n",
        "        temperature=temperature,\n",
        "    )\n",
        "    return response.choices[0].message.content.strip()"
      ]
    },
    {
      "cell_type": "code",
      "execution_count": null,
      "metadata": {
        "id": "aIB5xaztU7-_"
      },
      "outputs": [],
      "source": [
        "# 1. Interview Approach (Farming Context)\n",
        "interview_prompt = \"Imagine you are an experienced agricultural scientist advising farmers. I will ask you questions one by one to optimize farming practices. First, what key factors should be considered to improve crop yield and sustainability?\"\n",
        "\n",
        "interview_response = call_groq(interview_prompt)"
      ]
    },
    {
      "cell_type": "code",
      "execution_count": null,
      "metadata": {
        "id": "IkU7I7MIU8D5"
      },
      "outputs": [],
      "source": [
        "# 2. Chain of Thought (CoT) Prompting (Farming Calculation)\n",
        "cot_prompt = \"A farmer has a field of 10 acres. He wants to plant wheat, which requires 2 kg of seeds per acre. If a bag of seeds contains 5 kg, how many bags does the farmer need to buy? Solve this step by step.\"\n",
        "\n",
        "cot_response = call_groq(cot_prompt)\n",
        "\n"
      ]
    },
    {
      "cell_type": "code",
      "execution_count": null,
      "metadata": {
        "id": "Uwe85vH7U8HW"
      },
      "outputs": [],
      "source": [
        "# 3. Tree of Thought (ToT) Prompting (multiple reasoning paths)\n",
        "tot_prompt = \"List multiple ways to reduce carbon emissions in urban areas and analyze their effectiveness.\"\n",
        "tot_response = call_groq(tot_prompt)\n"
      ]
    },
    {
      "cell_type": "code",
      "execution_count": null,
      "metadata": {
        "id": "RB4kjrAIVGvP"
      },
      "outputs": [],
      "source": [
        "# 4. Zero-shot Prompting\n",
        "zero_shot_prompt = \"Translate the following English sentence to French: 'Hello, how are you?'\"\n",
        "zero_shot_response = call_groq(zero_shot_prompt)"
      ]
    },
    {
      "cell_type": "code",
      "execution_count": null,
      "metadata": {
        "id": "jW7T3CafVGxn"
      },
      "outputs": [],
      "source": [
        "\n",
        "# 5. Few-shot Prompting (Providing examples)\n",
        "few_shot_prompt = \"Here are some English to French translations:\\n'Thank you' -> 'Merci'\\n'Good morning' -> 'Bonjour'\\nTranslate: 'Hello, how are you?'\"\n",
        "few_shot_response = call_groq(few_shot_prompt)\n"
      ]
    },
    {
      "cell_type": "code",
      "execution_count": null,
      "metadata": {
        "id": "dJb5co1mVG0A"
      },
      "outputs": [],
      "source": [
        "# Compare Results\n",
        "results = {\n",
        "    \"Interview Approach\": interview_response,\n",
        "    \"Chain of Thought (CoT)\": cot_response,\n",
        "    \"Tree of Thought (ToT)\": tot_response,\n",
        "    \"Zero-shot Prompting\": zero_shot_response,\n",
        "    \"Few-shot Prompting\": few_shot_response\n",
        "}"
      ]
    },
    {
      "cell_type": "code",
      "execution_count": null,
      "metadata": {
        "colab": {
          "base_uri": "https://localhost:8080/"
        },
        "id": "-o7JFYq9VG3d",
        "outputId": "3dca4284-8c47-48c2-d5c7-7f9138f99237"
      },
      "outputs": [
        {
          "output_type": "stream",
          "name": "stdout",
          "text": [
            "\n",
            "================= Prompt Engineering Comparison =================\n",
            "\n",
            "\u001b[1;34mInterview Approach:\u001b[0m\n",
            "--------------------\n",
            "To improve crop yield and sustainability, farmers need to consider a multifaceted approach encompassing several key factors:\n",
            "\n",
            "**1. Soil Health:** This is paramount.  Factors include:\n",
            "\n",
            "* **Soil fertility:**  Regular soil testing to determine nutrient levels (macro and micronutrients) and adjusting fertilization strategies accordingly (organic or synthetic, considering timing and application methods).  Avoid excessive fertilization to minimize environmental impact.\n",
            "* **Soil structure and drainage:** Improving soil structure through practices like no-till farming, cover cropping, and crop rotation enhances water infiltration, aeration, and root growth.  Addressing drainage issues prevents waterlogging and nutrient loss.\n",
            "* **Soil organic matter:** Increasing soil organic matter through compost, manure, and cover crops improves water retention, nutrient availability, and biological activity, leading to healthier soils.\n",
            "* **Erosion control:** Implementing practices like contour farming, terracing, windbreaks, and cover cropping minimizes soil erosion and nutrient loss.\n",
            "\n",
            "**2. Water Management:** Efficient water use is crucial for sustainability and yield:\n",
            "\n",
            "* **Irrigation efficiency:** Using appropriate irrigation methods (drip, sprinkler, furrow) based on soil type and crop needs minimizes water waste. Implementing techniques like soil moisture sensors can optimize irrigation scheduling.\n",
            "* **Water harvesting and conservation:**  Collecting rainwater and using drought-tolerant crops can reduce reliance on external water sources.\n",
            "* **Drought tolerance:** Selecting drought-resistant crop varieties is essential in water-scarce regions.\n",
            "\n",
            "**3. Pest and Disease Management:** Integrated pest management (IPM) is critical:\n",
            "\n",
            "* **Biological control:** Utilizing beneficial insects, nematodes, or other biological agents to control pests and diseases.\n",
            "* **Resistant varieties:** Planting disease and pest-resistant crop varieties reduces the need for chemical interventions.\n",
            "* **Crop rotation:** Rotating crops disrupts pest and disease cycles and reduces their impact.\n",
            "* **Monitoring and early detection:** Regularly monitoring crops for pests and diseases allows for early intervention, preventing major outbreaks and minimizing the need for extensive chemical treatments.  Minimizing pesticide use protects beneficial insects and the environment.\n",
            "\n",
            "**4. Nutrient Management:** Optimized nutrient use is crucial for yield and sustainability:\n",
            "\n",
            "* **Precision agriculture:** Utilizing technologies like GPS and variable rate fertilization to apply nutrients only where needed, minimizing waste and environmental impact.\n",
            "* **Manure management:** Proper handling and application of manure enhances soil fertility while minimizing nutrient runoff and pollution.\n",
            "* **Cover cropping:** Cover crops can fix nitrogen, suppress weeds, and improve soil health, reducing the need for synthetic fertilizers.\n",
            "\n",
            "**5. Climate Change Adaptation:**  Addressing the challenges of a changing climate:\n",
            "\n",
            "* **Climate-resilient varieties:** Selecting crop varieties that are tolerant to heat, drought, or other climate-related stresses.\n",
            "* **Agroforestry:** Integrating trees into farming systems can provide shade, improve soil health, and enhance biodiversity.\n",
            "* **Climate-smart agriculture practices:** Implementing practices that reduce greenhouse gas emissions and enhance carbon sequestration in soil.\n",
            "\n",
            "\n",
            "These factors are interconnected.  A holistic approach, tailored to specific farm conditions and crop types, is necessary for maximizing both yield and sustainability.  Continuous learning and adapting to new research and technologies are essential for long-term success.\n",
            "\n",
            "\n",
            "\u001b[1;34mChain of Thought (CoT):\u001b[0m\n",
            "------------------------\n",
            "**Step 1: Calculate the total amount of seeds needed.**\n",
            "\n",
            "* The farmer has 10 acres of land.\n",
            "* Each acre needs 2 kg of seeds.\n",
            "* Total seeds needed: 10 acres * 2 kg/acre = 20 kg\n",
            "\n",
            "**Step 2: Calculate the number of bags needed.**\n",
            "\n",
            "* Each bag contains 5 kg of seeds.\n",
            "* Total bags needed: 20 kg / 5 kg/bag = 4 bags\n",
            "\n",
            "**Answer:** The farmer needs to buy 4 bags of seeds.\n",
            "\n",
            "\n",
            "\u001b[1;34mTree of Thought (ToT):\u001b[0m\n",
            "-----------------------\n",
            "## Reducing Carbon Emissions in Urban Areas: Multiple Strategies & Effectiveness Analysis\n",
            "\n",
            "Urban areas are significant contributors to global carbon emissions. Reducing them requires a multifaceted approach targeting various sectors.  Below are several strategies, along with an analysis of their effectiveness:\n",
            "\n",
            "**I. Transportation:**\n",
            "\n",
            "* **1. Promoting Public Transportation:**  **Effectiveness:** High, but depends on implementation.  Expanding and improving existing systems (frequency, reliability, accessibility) dramatically reduces individual car use.  Effectiveness is hampered by initial high capital costs, potential for operational inefficiencies, and the need for effective integration with other modes.\n",
            "* **2. Cycling Infrastructure:** **Effectiveness:** Moderate to High. Dedicated bike lanes, secure bike storage, and bike-sharing programs encourage cycling, reducing reliance on cars. Effectiveness depends on safety improvements, addressing concerns about theft, and ensuring suitable terrain for cycling.\n",
            "* **3. Walking Infrastructure:** **Effectiveness:** Moderate.  Pedestrian-friendly streets, wider sidewalks, and improved crossings encourage walking for shorter trips. Effectiveness is limited by urban design that often prioritizes cars, and lack of safety in high-traffic areas.\n",
            "* **4. Electric Vehicles (EVs):** **Effectiveness:** Moderate to High, increasing rapidly.  Government incentives, charging infrastructure expansion, and falling EV prices are driving adoption.  Effectiveness is limited by range anxiety, charging time, electricity grid capacity, and the carbon footprint of battery production.\n",
            "* **5. Ride-sharing and Carpooling:** **Effectiveness:** Moderate.  Reduces the number of cars on the road, but only if efficiently implemented and if fuel-efficient vehicles are used. Effectiveness can be lowered by increased congestion caused by inefficient routing and increased overall vehicle miles traveled.\n",
            "\n",
            "\n",
            "**II. Buildings:**\n",
            "\n",
            "* **6. Energy-efficient Buildings:** **Effectiveness:** High.  Retrofitting existing buildings and constructing new ones with high energy efficiency standards (insulation, windows, HVAC) significantly reduces energy consumption. Effectiveness depends on building codes enforcement and the availability of funding for renovations.\n",
            "* **7. Renewable Energy Sources:** **Effectiveness:** High.  Installing solar panels, wind turbines, and other renewable energy sources on buildings reduces reliance on fossil fuel-based electricity. Effectiveness varies by location (solar irradiance, wind speed) and the cost of installation.\n",
            "* **8. District Heating and Cooling:** **Effectiveness:** High.  Centralized systems using renewable energy sources or waste heat are more efficient than individual building systems.  Effectiveness depends on infrastructure costs and the availability of suitable energy sources.\n",
            "\n",
            "\n",
            "**III. Waste Management:**\n",
            "\n",
            "* **9. Waste Reduction and Recycling:** **Effectiveness:** Moderate.  Reducing waste generation through better design, reuse, and recycling programs reduces landfill methane emissions. Effectiveness is hampered by low recycling rates, contamination of recycling streams, and lack of infrastructure for certain materials.\n",
            "* **10. Anaerobic Digestion:** **Effectiveness:** Moderate to High.  Processing organic waste through anaerobic digestion produces biogas (renewable energy) and reduces landfill emissions. Effectiveness depends on infrastructure costs and the availability of suitable waste streams.\n",
            "\n",
            "\n",
            "**IV. Industrial and Commercial Sectors:**\n",
            "\n",
            "* **11. Industrial Decarbonization:** **Effectiveness:** High, but complex.  Implementing cleaner production technologies, improving energy efficiency, and shifting to renewable energy sources in industrial processes is crucial. Effectiveness depends on technological advancements, economic incentives, and regulatory frameworks.\n",
            "* **12. Green Procurement Policies:** **Effectiveness:** Moderate to High.  Government and businesses adopting policies that prioritize goods and services with lower carbon footprints. Effectiveness depends on the transparency and accuracy of carbon footprint data and the willingness of businesses to comply.\n",
            "\n",
            "\n",
            "**V. Urban Planning and Design:**\n",
            "\n",
            "* **13. Compact City Development:** **Effectiveness:** High.  Developing denser, mixed-use neighborhoods reduces the need for commuting and increases walkability. Effectiveness relies on changing zoning regulations and overcoming public resistance to higher density living.\n",
            "* **14. Green Spaces and Urban Forestry:** **Effectiveness:** Moderate.  Trees absorb CO2 and provide other environmental benefits.  Effectiveness is limited by available space and the need for proper tree maintenance.\n",
            "\n",
            "\n",
            "**Overall Effectiveness:**\n",
            "\n",
            "The effectiveness of these strategies varies depending on local context, political will, funding availability, and technological advancements. A comprehensive approach integrating multiple strategies is crucial for achieving significant reductions in urban carbon emissions. The most effective strategies will likely be those that address systemic issues, such as transportation and building design, alongside enabling technologies and supportive policies.  Continuous monitoring and adaptation are vital to ensure long-term success.\n",
            "\n",
            "\n",
            "\u001b[1;34mZero-shot Prompting:\u001b[0m\n",
            "---------------------\n",
            "Bonjour, comment allez-vous ?  (formal)\n",
            "\n",
            "or\n",
            "\n",
            "Salut, comment vas-tu ? (informal, singular \"you\")\n",
            "\n",
            "or\n",
            "\n",
            "Salut, comment allez-vous ? (informal, plural \"you\")\n",
            "\n",
            "\n",
            "\u001b[1;34mFew-shot Prompting:\u001b[0m\n",
            "--------------------\n",
            "The most common translation of \"Hello, how are you?\" in French is:\n",
            "\n",
            "**Bonjour, comment allez-vous ?** (formal)\n",
            "\n",
            "or\n",
            "\n",
            "**Salut, comment vas-tu ?** (informal -  use with friends and family)\n",
            "\n",
            "\n",
            "================================================================\n"
          ]
        }
      ],
      "source": [
        "print(\"\\n================= Prompt Engineering Comparison =================\")\n",
        "for method, response in results.items():\n",
        "    print(f\"\\n\\033[1;34m{method}:\\033[0m\")\n",
        "    print(\"-\" * (len(method) + 2))\n",
        "    print(response)\n",
        "print(\"\\n================================================================\")\n"
      ]
    }
  ],
  "metadata": {
    "colab": {
      "provenance": [],
      "include_colab_link": true
    },
    "kernelspec": {
      "display_name": "Python 3",
      "name": "python3"
    },
    "language_info": {
      "name": "python"
    }
  },
  "nbformat": 4,
  "nbformat_minor": 0
}