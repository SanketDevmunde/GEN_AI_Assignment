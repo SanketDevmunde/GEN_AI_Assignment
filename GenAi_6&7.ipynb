{
  "nbformat": 4,
  "nbformat_minor": 0,
  "metadata": {
    "colab": {
      "provenance": [],
      "include_colab_link": true
    },
    "kernelspec": {
      "name": "python3",
      "display_name": "Python 3"
    },
    "language_info": {
      "name": "python"
    }
  },
  "cells": [
    {
      "cell_type": "markdown",
      "metadata": {
        "id": "view-in-github",
        "colab_type": "text"
      },
      "source": [
        "<a href=\"https://colab.research.google.com/github/SanketDevmunde/GEN_AI_Assignment/blob/main/GenAi_6%267.ipynb\" target=\"_parent\"><img src=\"https://colab.research.google.com/assets/colab-badge.svg\" alt=\"Open In Colab\"/></a>"
      ]
    },
    {
      "cell_type": "code",
      "execution_count": 4,
      "metadata": {
        "id": "bNUzy_eAzuxw"
      },
      "outputs": [],
      "source": [
        "import requests\n",
        "from PIL import Image\n",
        "from io import BytesIO\n",
        "import google.generativeai as genai\n",
        "from google.colab import userdata\n",
        "\n",
        "# 🔐 Load API Keys from Colab Secrets\n",
        "HF_API_TOKEN = userdata.get('HF_TOKEN')  # Hugging Face\n",
        "GEMINI_API_KEY = userdata.get('Gemini_API_Key')       # Gemini"
      ]
    },
    {
      "cell_type": "code",
      "source": [
        "# -------------------- IMAGE GENERATION (Hugging Face) --------------------\n",
        "\n",
        "HF_API_URL = \"https://api-inference.huggingface.co/models/stabilityai/stable-diffusion-3.5-large\"\n",
        "headers = {\"Authorization\": f\"Bearer {HF_API_TOKEN}\"}\n",
        "prompt = \"Doraemon, a cute blue robot cat from Japanese anime, standing next to Nobita, a young schoolboy wearing glasses, in a colorful cartoon city background, anime style\"\n",
        "\n",
        "# Send request to Hugging Face\n",
        "response = requests.post(HF_API_URL, headers=headers, json={\"inputs\": prompt})\n",
        "\n",
        "# Save image if response is OK\n",
        "if response.status_code == 200:\n",
        "    image = Image.open(BytesIO(response.content))\n",
        "    image_path = \"hf_generated_image.png\"\n",
        "    image.save(image_path)\n",
        "    image.show()\n",
        "else:\n",
        "    raise Exception(f\"❌ Hugging Face API Error: {response.status_code} - {response.text}\")\n"
      ],
      "metadata": {
        "id": "Ppl4cf43DR64"
      },
      "execution_count": 5,
      "outputs": []
    },
    {
      "cell_type": "code",
      "source": [
        "# -------------------- IMAGE CAPTIONING (Gemini) --------------------\n",
        "\n",
        "# Configure Gemini API\n",
        "genai.configure(api_key=GEMINI_API_KEY)\n",
        "\n",
        "def generate_caption_with_gemini(image_path):\n",
        "    \"\"\"Generate a caption using Gemini 1.5 Flash model.\"\"\"\n",
        "    try:\n",
        "        image = Image.open(image_path)\n",
        "        model = genai.GenerativeModel(\"gemini-1.5-flash\")\n",
        "\n",
        "        response = model.generate_content([\n",
        "            image,\n",
        "            \"Describe this image in one sentence.\"\n",
        "        ])\n",
        "\n",
        "        if response and hasattr(response, \"text\"):\n",
        "            return response.text.strip()\n",
        "\n",
        "        return \"No caption generated.\"\n",
        "\n",
        "    except Exception as e:\n",
        "        return f\"❌ Error: {str(e)}\"\n",
        "\n",
        "# 🔎 Generate caption\n",
        "caption = generate_caption_with_gemini(image_path)\n",
        "print(f\"🖼️ Generated Caption: {caption}\")"
      ],
      "metadata": {
        "colab": {
          "base_uri": "https://localhost:8080/",
          "height": 54
        },
        "id": "YYjU7DcA1E13",
        "outputId": "63730021-4fe2-479c-bc83-a3f1c23e245b"
      },
      "execution_count": 6,
      "outputs": [
        {
          "output_type": "stream",
          "name": "stdout",
          "text": [
            "🖼️ Generated Caption: A stylized image shows Doraemon, the famous robotic cat, standing next to Nobita Nobi in a vibrant, bustling city street.\n"
          ]
        }
      ]
    }
  ]
}