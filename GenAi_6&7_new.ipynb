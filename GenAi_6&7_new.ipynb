{
  "nbformat": 4,
  "nbformat_minor": 0,
  "metadata": {
    "colab": {
      "provenance": [],
      "include_colab_link": true
    },
    "kernelspec": {
      "name": "python3",
      "display_name": "Python 3"
    },
    "language_info": {
      "name": "python"
    }
  },
  "cells": [
    {
      "cell_type": "markdown",
      "metadata": {
        "id": "view-in-github",
        "colab_type": "text"
      },
      "source": [
        "<a href=\"https://colab.research.google.com/github/SanketDevmunde/GEN_AI_Assignment/blob/main/GenAi_6%267_new.ipynb\" target=\"_parent\"><img src=\"https://colab.research.google.com/assets/colab-badge.svg\" alt=\"Open In Colab\"/></a>"
      ]
    },
    {
      "cell_type": "markdown",
      "source": [
        "\n",
        "\n",
        "### 📝 **Assignment Summary: AI Image Generation & Captioning**\n",
        "\n",
        "This project integrates two powerful AI services to create a mini image-to-caption pipeline:\n",
        "\n",
        "1. **Image Generation**  \n",
        "   - Uses Hugging Face's `Stable Diffusion 3.5` model.  \n",
        "   - Generates an image based on a text prompt (e.g., *\"Doraemon and Nobita in anime style\"*).  \n",
        "   - The output image is saved and displayed using Python’s PIL library.\n",
        "\n",
        "2. **Image Captioning**  \n",
        "   - Uses Google's `Gemini 1.5 Flash` model.  \n",
        "   - Takes the generated image and produces a one-sentence description.  \n",
        "   - Demonstrates multimodal capabilities by combining vision and language models.\n",
        "\n",
        "3. **Secure API Management**  \n",
        "   - API keys (for Hugging Face and Gemini) are securely stored in Google Colab Secrets.\n",
        "\n",
        "---\n"
      ],
      "metadata": {
        "id": "fd2n_jxaHvIv"
      }
    },
    {
      "cell_type": "code",
      "execution_count": 4,
      "metadata": {
        "id": "bNUzy_eAzuxw"
      },
      "outputs": [],
      "source": [
        "import requests\n",
        "from PIL import Image\n",
        "from io import BytesIO\n",
        "import google.generativeai as genai\n",
        "from google.colab import userdata\n",
        "\n",
        "# 🔐 Load API Keys from Colab Secrets\n",
        "HF_API_TOKEN = userdata.get('HF_TOKEN')  # Hugging Face\n",
        "GEMINI_API_KEY = userdata.get('Gemini_API_Key')       # Gemini"
      ]
    },
    {
      "cell_type": "markdown",
      "source": [],
      "metadata": {
        "id": "TMjPPQMkHuxS"
      }
    },
    {
      "cell_type": "code",
      "source": [
        "# -------------------- IMAGE GENERATION (Hugging Face) --------------------\n",
        "\n",
        "HF_API_URL = \"https://api-inference.huggingface.co/models/stabilityai/stable-diffusion-3.5-large\"\n",
        "headers = {\"Authorization\": f\"Bearer {HF_API_TOKEN}\"}\n",
        "prompt = \"Doraemon, a cute blue robot cat from Japanese anime, standing next to Nobita, a young schoolboy wearing glasses, in a colorful cartoon city background, anime style\"\n",
        "\n",
        "# Send request to Hugging Face\n",
        "response = requests.post(HF_API_URL, headers=headers, json={\"inputs\": prompt})\n",
        "\n",
        "# Save image if response is OK\n",
        "if response.status_code == 200:\n",
        "    image = Image.open(BytesIO(response.content))\n",
        "    image_path = \"hf_generated_image.png\"\n",
        "    image.save(image_path)\n",
        "    image.show()\n",
        "else:\n",
        "    raise Exception(f\"❌ Hugging Face API Error: {response.status_code} - {response.text}\")\n"
      ],
      "metadata": {
        "id": "Ppl4cf43DR64"
      },
      "execution_count": 5,
      "outputs": []
    },
    {
      "cell_type": "code",
      "source": [
        "# -------------------- IMAGE CAPTIONING (Gemini) --------------------\n",
        "\n",
        "# Configure Gemini API\n",
        "genai.configure(api_key=GEMINI_API_KEY)\n",
        "\n",
        "def generate_caption_with_gemini(image_path):\n",
        "    \"\"\"Generate a caption using Gemini 1.5 Flash model.\"\"\"\n",
        "    try:\n",
        "        image = Image.open(image_path)\n",
        "        model = genai.GenerativeModel(\"gemini-1.5-flash\")\n",
        "\n",
        "        response = model.generate_content([\n",
        "            image,\n",
        "            \"Describe this image in one sentence.\"\n",
        "        ])\n",
        "\n",
        "        if response and hasattr(response, \"text\"):\n",
        "            return response.text.strip()\n",
        "\n",
        "        return \"No caption generated.\"\n",
        "\n",
        "    except Exception as e:\n",
        "        return f\"❌ Error: {str(e)}\"\n",
        "\n",
        "# 🔎 Generate caption\n",
        "caption = generate_caption_with_gemini(image_path)\n",
        "print(f\"🖼️ Generated Caption: {caption}\")"
      ],
      "metadata": {
        "colab": {
          "base_uri": "https://localhost:8080/",
          "height": 34
        },
        "id": "YYjU7DcA1E13",
        "outputId": "63730021-4fe2-479c-bc83-a3f1c23e245b"
      },
      "execution_count": 6,
      "outputs": [
        {
          "output_type": "stream",
          "name": "stdout",
          "text": [
            "🖼️ Generated Caption: A stylized image shows Doraemon, the famous robotic cat, standing next to Nobita Nobi in a vibrant, bustling city street.\n"
          ]
        }
      ]
    }
  ]
}